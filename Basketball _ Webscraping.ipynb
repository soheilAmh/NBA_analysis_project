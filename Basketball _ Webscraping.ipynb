{
 "cells": [
  {
   "cell_type": "code",
   "execution_count": null,
   "id": "28a61d6b",
   "metadata": {},
   "outputs": [],
   "source": [
    "import re\n",
    "import pandas as pd\n",
    "import requests\n",
    "from bs4 import BeautifulSoup"
   ]
  },
  {
   "cell_type": "code",
   "execution_count": 210,
   "id": "84d9778c",
   "metadata": {},
   "outputs": [],
   "source": [
    "player_link = []\n",
    "team_link = []"
   ]
  },
  {
   "cell_type": "markdown",
   "id": "a78b4ef9",
   "metadata": {},
   "source": [
    "Michael Jordan Trophy"
   ]
  },
  {
   "cell_type": "code",
   "execution_count": 211,
   "id": "f09f9046",
   "metadata": {},
   "outputs": [],
   "source": [
    "for i in range(2020,2026):\n",
    "    url = f\"https://www.basketball-reference.com/awards/awards_{i}.html\"\n",
    "    response = requests.get(url)\n",
    "    soup = BeautifulSoup(response.text, 'html.parser')\n",
    "    result = soup.find(id= \"div_mvp\")\n",
    "    data = result.select(\"tbody > tr\")\n",
    "    MVP_data = []\n",
    "    season = f\"{i-1} - {i}\"\n",
    "    for j in data:\n",
    "        rank = j.find(\"th\", attrs={\"data-stat\": \"rank\"}).text.strip()\n",
    "        name = j.find(\"td\", attrs={\"data-stat\": \"player\"})\n",
    "        player_link.append(name.find(\"a\").get('href'))\n",
    "        team_id = j.find(\"td\", attrs={\"data-stat\": \"team_id\"})\n",
    "        if team_id.find(\"a\"):\n",
    "            team_link.append(team_id.find(\"a\").get('href'))\n",
    "        data_dict = {\n",
    "                    \"Rank\" : rank,\n",
    "                    \"Name\" : name.text.strip(),\n",
    "                    \"Team_ID\" : team_id.text.strip(),\n",
    "                    \"Season\" : season\n",
    "        }\n",
    "        MVP_data.append(data_dict)\n",
    "    data = pd.DataFrame(MVP_data)\n",
    "    data.to_excel(f'MVP {season}.xlsx', index=False)"
   ]
  },
  {
   "cell_type": "markdown",
   "id": "17daf769",
   "metadata": {},
   "source": [
    "Champion Team"
   ]
  },
  {
   "cell_type": "code",
   "execution_count": 212,
   "id": "b66fbd05",
   "metadata": {},
   "outputs": [],
   "source": [
    "league_champ = []\n",
    "for i in range(2020,2026):\n",
    "    url = f\"https://www.basketball-reference.com/leagues/NBA_{i}_totals.html\"\n",
    "    response = requests.get(url)\n",
    "    soup = BeautifulSoup(response.text, 'html.parser')\n",
    "\n",
    "    result = soup.find(\"div\", id= \"meta\")\n",
    "    p_list = result.find_all(\"p\")\n",
    "    league_champ.append(p_list[2].find(\"a\").get('href'))\n"
   ]
  },
  {
   "cell_type": "code",
   "execution_count": 213,
   "id": "13781e53",
   "metadata": {},
   "outputs": [],
   "source": [
    "base_url = \"https://www.basketball-reference.com\"\n",
    "for year in league_champ:\n",
    "    response = requests.get(base_url+year)\n",
    "    soup = BeautifulSoup(response.text, 'html.parser')\n",
    "    result = soup.find(id= \"div_roster\")\n",
    "    players = result.select(\"tbody > tr\")\n",
    "    champ_data = []\n",
    "    y = re.search(r\"\\d{4}\", year).group(0)\n",
    "    season = f\"{int(y)-1}-{y}\"\n",
    "    team_id = re.search(r\"\\b\\w{3}\\b\", year).group(0)\n",
    "    for p in players:\n",
    "        shirt_no = p.find(\"th\", attrs={\"data-stat\": \"number\"}).text.strip()\n",
    "        name = p.find(\"td\", attrs={\"data-stat\": \"player\"})\n",
    "        if name.find(\"a\"):\n",
    "            player_link.append(name.find(\"a\").get('href'))\n",
    "        experience = p.find(\"td\", attrs={\"data-stat\": \"years_experience\"}).text.strip()\n",
    "        data_dict = {\"Shirt_No\" : shirt_no,\n",
    "                \"Name\" : name.text.strip(),\n",
    "                \"Experience\" : experience,\n",
    "                \"Season\" : season,\n",
    "                 \"Team_ID\" : team_id }\n",
    "        champ_data.append(data_dict)\n",
    "    data = pd.DataFrame(champ_data)\n",
    "    data.to_excel(f'League Champion {season}.xlsx', index=False)\n"
   ]
  },
  {
   "cell_type": "markdown",
   "id": "161f98f6",
   "metadata": {},
   "source": [
    "Top 50 for each season"
   ]
  },
  {
   "cell_type": "code",
   "execution_count": 214,
   "id": "3d63d6ac",
   "metadata": {},
   "outputs": [],
   "source": [
    "for i in range(2020,2026):\n",
    "    url = f\"https://www.basketball-reference.com/leagues/NBA_{i}_totals.html\"\n",
    "    response = requests.get(url)\n",
    "    soup = BeautifulSoup(response.text, 'html.parser')\n",
    "    result = soup.find(id= \"div_totals_stats\")\n",
    "    top50 = result.select(\"tbody > tr\")\n",
    "    top50_data = []\n",
    "    season = f\"{i-1} - {i}\"\n",
    "    for j in top50:\n",
    "        rank = j.find(\"th\", attrs={\"data-stat\": \"ranker\"}).text.strip()\n",
    "        name = j.find(\"td\", attrs={\"data-stat\": \"name_display\"})\n",
    "        if name.find(\"a\"):\n",
    "            player_link.append(name.find(\"a\").get('href'))\n",
    "        team_id = j.find(\"td\", attrs={\"data-stat\": \"team_name_abbr\"})\n",
    "        if team_id.find(\"a\"):\n",
    "            team_link.append(team_id.find(\"a\").get('href'))\n",
    "        data_dict = {\n",
    "                    \"Rank\" : rank,\n",
    "                    \"Name\" : name.text.strip(),\n",
    "                    \"Team_ID\" : team_id.text.strip(),\n",
    "                    \"Season\" : season\n",
    "        }\n",
    "        top50_data.append(data_dict)\n",
    "        if int(rank) == 50 :\n",
    "            break\n",
    "    data = pd.DataFrame(top50_data)\n",
    "    data.to_excel(f'Top 50 of {season}.xlsx', index=False)"
   ]
  },
  {
   "cell_type": "markdown",
   "id": "9b3d7c4f",
   "metadata": {},
   "source": [
    "Teams"
   ]
  },
  {
   "cell_type": "code",
   "execution_count": null,
   "id": "811bedb2",
   "metadata": {},
   "outputs": [],
   "source": [
    "modify_link = []\n",
    "for link in team_link :\n",
    "    check = re.search(r\"\\/teams\\/[A-Z]{3}\\/\", link).group(0)\n",
    "    modify_link.append(check)\n",
    "\n",
    "modify_link = list(set(modify_link))"
   ]
  },
  {
   "cell_type": "code",
   "execution_count": null,
   "id": "9337ad2c",
   "metadata": {},
   "outputs": [],
   "source": [
    "team_url = \"https://www.basketball-reference.com\"\n",
    "teams_data = []\n",
    "for link in modify_link:\n",
    "    url = team_url+ link\n",
    "    response = requests.get(url)\n",
    "    soup = BeautifulSoup(response.text, 'html.parser')\n",
    "    result = soup.find(id=\"meta\")\n",
    "    team_id = re.search(r\"\\b\\w{3}\\b\", link).group(0)\n",
    "    if result:\n",
    "        name = result.find(\"h1\").text.strip()\n",
    "        location = result.find(string=\"Location:\").next_element.text.strip()\n",
    "        founded = result.find(string=\"Seasons:\").next_element.text.strip()\n",
    "        win_loss = result.find(string=\"Record:\").next_element.text.strip()\n",
    "        playoff = result.find(string=\"Playoff Appearances:\").next_element.text.strip()\n",
    "        championship = result.find(string=\"Championships:\").next_element.text.strip()\n",
    "    else:\n",
    "        name = None\n",
    "        location = None\n",
    "        founded = None\n",
    "        win_loss = None\n",
    "        playoff = None\n",
    "        championship = None\n",
    "    \n",
    "\n",
    "    data_dict = { \"Team_ID\" : team_id,\n",
    "                 \"Team Name\" : name,\n",
    "                 \"Location\": location,\n",
    "                 \"Founded Info\" : founded,\n",
    "                 \"Win_Loss\" : win_loss,\n",
    "                 \"playoff\" : playoff,\n",
    "                 \"Championship\": championship}\n",
    "    teams_data.append(data_dict)\n",
    "data = pd.DataFrame(teams_data)\n",
    "data.to_excel(f'Team Information.xlsx', index=False)"
   ]
  },
  {
   "cell_type": "markdown",
   "id": "9ee0bb0d",
   "metadata": {},
   "source": [
    "Players"
   ]
  },
  {
   "cell_type": "markdown",
   "id": "55674324",
   "metadata": {},
   "source": [
    "player_link = list(set(player_link))"
   ]
  },
  {
   "cell_type": "code",
   "execution_count": null,
   "id": "29491bda",
   "metadata": {},
   "outputs": [],
   "source": [
    "base_url = \"https://www.basketball-reference.com\"\n",
    "player_data = []\n",
    "for link in player_link:\n",
    "    url = base_url+link\n",
    "    response = requests.get(url)\n",
    "    soup = BeautifulSoup(response.text, 'html.parser')\n",
    "    result = soup.find(id=\"meta\")\n",
    "    \n",
    "    if result:\n",
    "        name = result.find(\"h1\").text.strip()\n",
    "        strong_tag = result.find_all('strong')\n",
    "        for tag in strong_tag :\n",
    "            if \"Position:\" in tag.text:\n",
    "                position = tag.next_sibling.strip()\n",
    "            if \"Shoots:\" in tag.text:\n",
    "                shoots = tag.next_sibling.strip()\n",
    "            if \"Experience:\" in tag.text:\n",
    "                experience = tag.next_sibling.strip()\n",
    "        span_tag = result.select(\"p >span\")\n",
    "        height = span_tag[0].text.strip()\n",
    "        weight = span_tag[1].text.strip()\n",
    "        date_of_birth = span_tag[2].text.strip()\n",
    "        town = span_tag[3].text.strip()\n",
    "    else:\n",
    "        name = None\n",
    "        position = None\n",
    "        shoots = None\n",
    "        experience = None\n",
    "        height = None\n",
    "        weight = None\n",
    "        date_of_birth = None\n",
    "        town = None\n",
    "    \n",
    "    data_dict = {\"Player Name\" : name,\n",
    "                 \"Position\" : position,\n",
    "                 \"Shoots\": shoots,\n",
    "                 \"Experience\" : experience,\n",
    "                 \"Height\" : height,\n",
    "                 \"Weight\" : weight,\n",
    "                 \"Date Of Birth\": date_of_birth,\n",
    "                 \"Hometown\" : town}\n",
    "    player_data.append(data_dict)\n",
    "data = pd.DataFrame(player_data)\n",
    "data.to_excel('Players Information.xlsx', index=False)\n"
   ]
  }
 ],
 "metadata": {
  "kernelspec": {
   "display_name": "QUERA",
   "language": "python",
   "name": "python3"
  },
  "language_info": {
   "codemirror_mode": {
    "name": "ipython",
    "version": 3
   },
   "file_extension": ".py",
   "mimetype": "text/x-python",
   "name": "python",
   "nbconvert_exporter": "python",
   "pygments_lexer": "ipython3",
   "version": "3.9.23"
  }
 },
 "nbformat": 4,
 "nbformat_minor": 5
}
